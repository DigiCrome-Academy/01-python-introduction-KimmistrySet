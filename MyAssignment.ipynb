{
 "cells": [
  {
   "cell_type": "markdown",
   "id": "f8624f80",
   "metadata": {},
   "source": [
    "# Exercise 1.1"
   ]
  },
  {
   "cell_type": "code",
   "execution_count": 1,
   "id": "c69ee6d8",
   "metadata": {},
   "outputs": [
    {
     "name": "stdout",
     "output_type": "stream",
     "text": [
      "Welcome to the Data Science Class\n"
     ]
    }
   ],
   "source": [
    "print(\"Welcome to the Data Science Class\")"
   ]
  },
  {
   "cell_type": "markdown",
   "id": "37a21a7f",
   "metadata": {},
   "source": [
    "# Exercise 2.1"
   ]
  },
  {
   "cell_type": "code",
   "execution_count": null,
   "id": "b796beca",
   "metadata": {},
   "outputs": [],
   "source": [
    "name = (\"Kim\")\n",
    "favorite_tool = (\"Python\")\n",
    "years_experience = (\"0\")\n",
    "print(f\"Hi, I'm {name}, I love {favorite_tool} and I have {years_experience} years of experience.\")\n"
   ]
  },
  {
   "cell_type": "markdown",
   "id": "715ebcb6",
   "metadata": {},
   "source": [
    "# Exercise 2.2"
   ]
  },
  {
   "cell_type": "code",
   "execution_count": 2,
   "id": "dc803f2e",
   "metadata": {},
   "outputs": [
    {
     "name": "stdout",
     "output_type": "stream",
     "text": [
      "Report for Sales Data:\n",
      "Records: 1500\n",
      "Missing Values: 45\n",
      "Accuracy: 94.5\n"
     ]
    }
   ],
   "source": [
    "dataset_name = \"Sales Data\"\n",
    "total_records = 1500\n",
    "missing_values = 45\n",
    "accuracy = 94.5\n",
    "print(f\"Report for {dataset_name}:\\nRecords: {total_records}\\nMissing Values: {missing_values}\\nAccuracy: {accuracy}\")"
   ]
  },
  {
   "cell_type": "markdown",
   "id": "303c733e",
   "metadata": {},
   "source": [
    "# Exercise 3.1"
   ]
  },
  {
   "cell_type": "code",
   "execution_count": null,
   "id": "7ee168b2",
   "metadata": {},
   "outputs": [],
   "source": [
    "def collect_user_data():\n",
    "    name = input(\"What is your name? \")\n",
    "    age_input = input(\"How Old Are You? \")\n",
    "    age= int(age_input)\n",
    "    income_input = input(\"What Is Your Annual Income? \")\n",
    "    income = float(income_input)\n",
    "    edu_input = input(\"How Many Years of College Have You Completed? \")\n",
    "    education = int(edu_input)\n",
    "    \n",
    "    print(\"\\n--- Summary of Collected Data ---\")\n",
    "    print(f\"Name: {name}\")\n",
    "    print(f\"Age: {age} years old\")\n",
    "    print(f\"Annual Income: ${income:,.2f}\")\n",
    "    print(f\"Years of Education: {education}\")\n",
    "\n",
    "collect_user_data()"
   ]
  },
  {
   "cell_type": "markdown",
   "id": "36aba7c3",
   "metadata": {},
   "source": [
    "# Exercise 3.2"
   ]
  },
  {
   "cell_type": "code",
   "execution_count": null,
   "id": "14980982",
   "metadata": {},
   "outputs": [],
   "source": [
    "def calculate_bmi():\n",
    "    name = input(\"What Is Your Name? \")\n",
    "    kg_input = input(\"What is Your Current Weight in KG? \")\n",
    "    weight = float(kg_input)\n",
    "    ht_input = input(\"What is Your Height in Meters? \")\n",
    "    height = float(ht_input)\n",
    "    \n",
    "    bmi = weight / (height ** 2)\n",
    "\n",
    "    print(\"\\n--- BMI Calculator Results ---\")\n",
    "    print(f\"Name: {name}\")\n",
    "    print(f\"Weight: {weight} kg\")\n",
    "    print(f\"Height: {height} m\")\n",
    "    print(f\"BMI: {bmi:.2f}\")\n",
    "calculate_bmi() "
   ]
  }
 ],
 "metadata": {
  "kernelspec": {
   "display_name": "Python 3",
   "language": "python",
   "name": "python3"
  },
  "language_info": {
   "codemirror_mode": {
    "name": "ipython",
    "version": 3
   },
   "file_extension": ".py",
   "mimetype": "text/x-python",
   "name": "python",
   "nbconvert_exporter": "python",
   "pygments_lexer": "ipython3",
   "version": "3.13.3"
  }
 },
 "nbformat": 4,
 "nbformat_minor": 5
}
